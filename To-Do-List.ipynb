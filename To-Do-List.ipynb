{
 "cells": [
  {
   "cell_type": "markdown",
   "id": "1d851f3d",
   "metadata": {},
   "source": [
    "# Task:-4"
   ]
  },
  {
   "cell_type": "markdown",
   "id": "55b7dd1a",
   "metadata": {},
   "source": [
    "# TO-Do list:\n",
    "                    The python TO-DO-List program allows users to manage and organize their tasks efficiently. It provides functionalities for adding tasks with detailes such as name,due date,and updating task details,marking tasks as complete,and deleting task from the list.The program offer a user-friendly interface for easy interaction and task management. "
   ]
  },
  {
   "cell_type": "code",
   "execution_count": 1,
   "id": "ce79eb82",
   "metadata": {},
   "outputs": [
    {
     "name": "stdout",
     "output_type": "stream",
     "text": [
      "\n",
      "1. Add Task\n",
      "2. Remove Task\n",
      "3. Display Tasks\n",
      "4. Exit\n",
      "Enter your choice: 3\n",
      "No tasks to display.\n",
      "\n",
      "1. Add Task\n",
      "2. Remove Task\n",
      "3. Display Tasks\n",
      "4. Exit\n",
      "Enter your choice: 4\n",
      "Exiting program.\n"
     ]
    }
   ],
   "source": [
    "class ToDoList:\n",
    "    def __init__(self):\n",
    "        self.tasks = []\n",
    "\n",
    "    def add_task(self, task):\n",
    "        self.tasks.append(task)\n",
    "        print(\"Task added successfully!\")\n",
    "\n",
    "    def remove_task(self, task_index):\n",
    "        if 0 <= task_index < len(self.tasks):\n",
    "            del self.tasks[task_index]\n",
    "            print(\"Task removed successfully!\")\n",
    "        else:\n",
    "            print(\"Invalid task index.\")\n",
    "\n",
    "    def display_tasks(self):\n",
    "        if not self.tasks:\n",
    "            print(\"No tasks to display.\")\n",
    "        else:\n",
    "            print(\"Tasks:\")\n",
    "            for index, task in enumerate(self.tasks):\n",
    "                print(f\"{index + 1}. {task}\")\n",
    "\n",
    "def main():\n",
    "    todo_list = ToDoList()\n",
    "\n",
    "    while True:\n",
    "        print(\"\\n1. Add Task\")\n",
    "        print(\"2. Remove Task\")\n",
    "        print(\"3. Display Tasks\")\n",
    "        print(\"4. Exit\")\n",
    "\n",
    "        choice = input(\"Enter your choice: \")\n",
    "\n",
    "        if choice == '1':\n",
    "            task = input(\"Enter task: \")\n",
    "            todo_list.add_task(task)\n",
    "        elif choice == '2':\n",
    "            index = int(input(\"Enter task index to remove: \")) - 1\n",
    "            todo_list.remove_task(index)\n",
    "        elif choice == '3':\n",
    "            todo_list.display_tasks()\n",
    "        elif choice == '4':\n",
    "            print(\"Exiting program.\")\n",
    "            break\n",
    "        else:\n",
    "            print(\"Invalid choice. Please try again.\")\n",
    "\n",
    "if __name__ == \"__main__\":\n",
    "    main()\n"
   ]
  },
  {
   "cell_type": "code",
   "execution_count": null,
   "id": "e097ac85",
   "metadata": {},
   "outputs": [],
   "source": []
  }
 ],
 "metadata": {
  "kernelspec": {
   "display_name": "Python 3 (ipykernel)",
   "language": "python",
   "name": "python3"
  },
  "language_info": {
   "codemirror_mode": {
    "name": "ipython",
    "version": 3
   },
   "file_extension": ".py",
   "mimetype": "text/x-python",
   "name": "python",
   "nbconvert_exporter": "python",
   "pygments_lexer": "ipython3",
   "version": "3.11.4"
  }
 },
 "nbformat": 4,
 "nbformat_minor": 5
}
